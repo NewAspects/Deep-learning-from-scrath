{
 "cells": [
  {
   "cell_type": "code",
   "execution_count": 1,
   "metadata": {},
   "outputs": [],
   "source": [
    "import torch\n",
    "import torch.nn as nn\n",
    "import torch.nn.functional as F\n",
    "from PIL import Image\n",
    "from pathlib import Path\n",
    "import numpy as np\n",
    "from matplotlib import pyplot as plt\n",
    "\n",
    "import os\n",
    "import math"
   ]
  },
  {
   "cell_type": "code",
   "execution_count": 2,
   "metadata": {},
   "outputs": [],
   "source": [
    "PATH=Path(r\"C:\\Users\\Mertttt\\Desktop\\102_bootcamp\\data\\data_mnist\\mnist\")"
   ]
  },
  {
   "cell_type": "code",
   "execution_count": 3,
   "metadata": {},
   "outputs": [
    {
     "data": {
      "text/plain": [
       "[WindowsPath('C:/Users/Mertttt/Desktop/102_bootcamp/data/data_mnist/mnist/train'),\n",
       " WindowsPath('C:/Users/Mertttt/Desktop/102_bootcamp/data/data_mnist/mnist/validation')]"
      ]
     },
     "execution_count": 3,
     "metadata": {},
     "output_type": "execute_result"
    }
   ],
   "source": [
    "list(PATH.iterdir())"
   ]
  },
  {
   "cell_type": "code",
   "execution_count": 4,
   "metadata": {},
   "outputs": [],
   "source": [
    "image=Image.open(r\"C:\\Users\\Mertttt\\Desktop\\102_bootcamp\\data\\data_mnist\\mnist\\train\\4\\img_11265.jpg\")"
   ]
  },
  {
   "cell_type": "code",
   "execution_count": 5,
   "metadata": {},
   "outputs": [
    {
     "data": {
      "text/plain": [
       "<matplotlib.image.AxesImage at 0x21cf0d59438>"
      ]
     },
     "execution_count": 5,
     "metadata": {},
     "output_type": "execute_result"
    },
    {
     "data": {
      "image/png": "[encoded data removed]",
      "text/plain": [
       "<Figure size 432x288 with 1 Axes>"
      ]
     },
     "metadata": {
      "needs_background": "light"
     },
     "output_type": "display_data"
    }
   ],
   "source": [
    "plt.imshow(image,cmap=\"gray\")"
   ]
  },
  {
   "cell_type": "code",
   "execution_count": 6,
   "metadata": {},
   "outputs": [],
   "source": [
    "Path.ls= lambda x:list(x.iterdir())"
   ]
  },
  {
   "cell_type": "code",
   "execution_count": 9,
   "metadata": {},
   "outputs": [
    {
     "data": {
      "text/plain": [
       "[WindowsPath('C:/Users/Mertttt/Desktop/102_bootcamp/data/data_mnist/mnist/train'),\n",
       " WindowsPath('C:/Users/Mertttt/Desktop/102_bootcamp/data/data_mnist/mnist/validation')]"
      ]
     },
     "execution_count": 9,
     "metadata": {},
     "output_type": "execute_result"
    }
   ],
   "source": [
    "(PATH).ls()"
   ]
  },
  {
   "cell_type": "code",
   "execution_count": 20,
   "metadata": {},
   "outputs": [],
   "source": [
    "def log_softmax(x): \n",
    "    return (x.exp()/(x.exp().sum(-1,keepdim=True)) + 1e-20).log()\n",
    "\n",
    "def nll(preds, actuals): \n",
    "    return -preds[range(actuals.shape[0]), actuals].mean()\n",
    "\n",
    "def validation_acc(model):\n",
    "    return torch.stack([accuracy(model(xb), yb) for xb, yb in valid_dl]).mean().item()\n",
    "\n",
    "def accuracy(preds, yb): \n",
    "    return (torch.argmax(preds, dim=1, keepdim = True)==yb).float().mean()\n",
    "\n",
    "def loss_func(preds, targets):\n",
    "    preds = log_softmax(preds)\n",
    "    return nll(preds, targets)\n",
    "\n",
    "def train(model, epochs=5, valid_epoch=5):\n",
    "    for epoch in range(epochs):\n",
    "        for xb, yb in train_dl:\n",
    "            \n",
    "            preds = model(xb)\n",
    "            loss = loss_func(preds, yb.squeeze())\n",
    "            loss.backward()\n",
    "            optim.step()\n",
    "            optim.zero_grad()\n",
    "        \n",
    "        if epoch % valid_epoch == 0:\n",
    "            print(validation_acc(model))\n",
    "            \n",
    "            \n",
    "def _get_files(p, fs, extensions = None):\n",
    "    p = Path(p) # to support / notation\n",
    "    res = [p/f for f in fs if not f.startswith(\".\") \n",
    "           and ((not extensions) or f'.{f.split(\".\")[-1].lower()}' in extensions)]\n",
    "    return res\n",
    "\n",
    "class Dataset():\n",
    "    def __init__(self, x, y): \n",
    "        self.x,self.y = x,y\n",
    "    def __len__(self): \n",
    "        return len(self.x)\n",
    "    def __getitem__(self, i): \n",
    "        return self.x[i],self.y[i]\n",
    "\n",
    "\n",
    "class DataLoader():\n",
    "    def __init__(self, ds, bs): \n",
    "        self.ds, self.bs = ds, bs\n",
    "    def __iter__(self):\n",
    "        n = len(self.ds)\n",
    "        l = torch.randperm(n)\n",
    "\n",
    "        \n",
    "        for i in range(0, n, self.bs): \n",
    "            idxs_l = l[i:i+self.bs]\n",
    "            yield self.ds[idxs_l]\n",
    "            \n",
    "def create_ds_from_file(src):\n",
    "    imgs, labels = [], []\n",
    "    \n",
    "    for label in range(10):\n",
    "        path = src/str(label)\n",
    "        print(path)\n",
    "        t = [o.name for o in os.scandir(path)]\n",
    "        t = _get_files(path, t, extensions = [\".jpg\", \".png\"])\n",
    "        for e in t:\n",
    "            l = [np.array(Image.open(e)).reshape(28*28)]\n",
    "            imgs += l\n",
    "        labels += ([label] * len(t))\n",
    "    return torch.tensor(imgs,  dtype=torch.float32), torch.tensor(labels, dtype=torch.long).view(-1,1)\n"
   ]
  },
  {
   "cell_type": "code",
   "execution_count": 28,
   "metadata": {},
   "outputs": [
    {
     "name": "stdout",
     "output_type": "stream",
     "text": [
      "C:\\Users\\Mertttt\\Desktop\\102_bootcamp\\data\\data_mnist\\mnist\\train\\0\n",
      "C:\\Users\\Mertttt\\Desktop\\102_bootcamp\\data\\data_mnist\\mnist\\train\\1\n",
      "C:\\Users\\Mertttt\\Desktop\\102_bootcamp\\data\\data_mnist\\mnist\\train\\2\n",
      "C:\\Users\\Mertttt\\Desktop\\102_bootcamp\\data\\data_mnist\\mnist\\train\\3\n",
      "C:\\Users\\Mertttt\\Desktop\\102_bootcamp\\data\\data_mnist\\mnist\\train\\4\n",
      "C:\\Users\\Mertttt\\Desktop\\102_bootcamp\\data\\data_mnist\\mnist\\train\\5\n",
      "C:\\Users\\Mertttt\\Desktop\\102_bootcamp\\data\\data_mnist\\mnist\\train\\6\n",
      "C:\\Users\\Mertttt\\Desktop\\102_bootcamp\\data\\data_mnist\\mnist\\train\\7\n",
      "C:\\Users\\Mertttt\\Desktop\\102_bootcamp\\data\\data_mnist\\mnist\\train\\8\n",
      "C:\\Users\\Mertttt\\Desktop\\102_bootcamp\\data\\data_mnist\\mnist\\train\\9\n"
     ]
    }
   ],
   "source": [
    "trn_x, trn_y = create_ds_from_file(PATH/\"train\")"
   ]
  },
  {
   "cell_type": "code",
   "execution_count": 29,
   "metadata": {},
   "outputs": [
    {
     "name": "stdout",
     "output_type": "stream",
     "text": [
      "C:\\Users\\Mertttt\\Desktop\\102_bootcamp\\data\\data_mnist\\mnist\\validation\\0\n",
      "C:\\Users\\Mertttt\\Desktop\\102_bootcamp\\data\\data_mnist\\mnist\\validation\\1\n",
      "C:\\Users\\Mertttt\\Desktop\\102_bootcamp\\data\\data_mnist\\mnist\\validation\\2\n",
      "C:\\Users\\Mertttt\\Desktop\\102_bootcamp\\data\\data_mnist\\mnist\\validation\\3\n",
      "C:\\Users\\Mertttt\\Desktop\\102_bootcamp\\data\\data_mnist\\mnist\\validation\\4\n",
      "C:\\Users\\Mertttt\\Desktop\\102_bootcamp\\data\\data_mnist\\mnist\\validation\\5\n",
      "C:\\Users\\Mertttt\\Desktop\\102_bootcamp\\data\\data_mnist\\mnist\\validation\\6\n",
      "C:\\Users\\Mertttt\\Desktop\\102_bootcamp\\data\\data_mnist\\mnist\\validation\\7\n",
      "C:\\Users\\Mertttt\\Desktop\\102_bootcamp\\data\\data_mnist\\mnist\\validation\\8\n",
      "C:\\Users\\Mertttt\\Desktop\\102_bootcamp\\data\\data_mnist\\mnist\\validation\\9\n"
     ]
    }
   ],
   "source": [
    "val_x,val_y = create_ds_from_file(PATH/\"validation\")"
   ]
  },
  {
   "cell_type": "code",
   "execution_count": 23,
   "metadata": {},
   "outputs": [
    {
     "data": {
      "text/plain": [
       "(tensor(34.3409),\n",
       " tensor(77.5014),\n",
       " tensor(2.2117e-05),\n",
       " tensor(1.0000),\n",
       " tensor(0.0042),\n",
       " tensor(1.0038))"
      ]
     },
     "execution_count": 23,
     "metadata": {},
     "output_type": "execute_result"
    }
   ],
   "source": [
    "mean = trn_x.mean()\n",
    "std = trn_x.std()\n",
    "\n",
    "trn_x = (trn_x - mean) / std\n",
    "val_x = (val_x - mean) / std\n",
    "mean, std, trn_x.mean(), trn_x.std(), val_x.mean(), val_x.std()"
   ]
  },
  {
   "cell_type": "code",
   "execution_count": 24,
   "metadata": {},
   "outputs": [],
   "source": [
    "train_ds = Dataset(trn_x, trn_y)\n",
    "valid_ds = Dataset(val_x,val_y)\n",
    "\n",
    "train_dl = DataLoader(train_ds, 256)\n",
    "valid_dl = DataLoader(valid_ds, 256)"
   ]
  },
  {
   "cell_type": "code",
   "execution_count": 25,
   "metadata": {},
   "outputs": [],
   "source": [
    "model = nn.Sequential(\n",
    "    nn.Linear(784,60),\n",
    "    nn.ReLU(),\n",
    "    nn.Linear(60,10)\n",
    ")"
   ]
  },
  {
   "cell_type": "code",
   "execution_count": 26,
   "metadata": {},
   "outputs": [],
   "source": [
    "optim = torch.optim.SGD(model.parameters(), lr=0.001)"
   ]
  },
  {
   "cell_type": "code",
   "execution_count": 27,
   "metadata": {},
   "outputs": [
    {
     "name": "stdout",
     "output_type": "stream",
     "text": [
      "0.3075036406517029\n",
      "0.7509084343910217\n",
      "0.8294876217842102\n",
      "0.8532885313034058\n",
      "0.8696402907371521\n",
      "0.8766351938247681\n",
      "0.8825399875640869\n",
      "0.8868095874786377\n",
      "0.8887172937393188\n",
      "0.8899890780448914\n"
     ]
    }
   ],
   "source": [
    "train(model,50,5)"
   ]
  },
  {
   "cell_type": "markdown",
   "metadata": {},
   "source": [
    "### Applying edge detection"
   ]
  },
  {
   "cell_type": "code",
   "execution_count": 58,
   "metadata": {},
   "outputs": [],
   "source": [
    "kernel = np.array([-1,1])\n",
    "out = np.zeros((28,27))\n",
    "def conv(img, kernel):\n",
    "    \n",
    "    out = np.zeros(img.shape)\n",
    "    img = np.pad(img,[(0, 0), (0, 1)],\"edge\") # This will do the padding for not to reduce size\n",
    "    \n",
    "    for i in range(img.shape[0]):\n",
    "    \n",
    "        for j in range(img.shape[1]-1):\n",
    "            out[i][j] = abs((img[i][j:j+2] * kernel).sum())\n",
    "    \n",
    "    return out\n",
    "\n",
    "def create_ds_from_file(src):\n",
    "    imgs, labels = [], []\n",
    "    \n",
    "    for label in range(10):\n",
    "        path = src/str(label)\n",
    "        print(path)\n",
    "        t = [o.name for o in os.scandir(path)]\n",
    "        t = _get_files(path, t, extensions = [\".jpg\", \".png\"])\n",
    "        for e in t:\n",
    "            l = [conv(np.array(Image.open(e)), kernel).reshape(28*28)]\n",
    "            imgs += l\n",
    "        labels += ([label] * len(t))\n",
    "    return torch.tensor(imgs,  dtype=torch.float32), torch.tensor(labels, dtype=torch.long).view(-1,1)"
   ]
  },
  {
   "cell_type": "code",
   "execution_count": 59,
   "metadata": {},
   "outputs": [
    {
     "name": "stdout",
     "output_type": "stream",
     "text": [
      "C:\\Users\\Mertttt\\Desktop\\102_bootcamp\\data\\data_mnist\\mnist\\train\\0\n",
      "C:\\Users\\Mertttt\\Desktop\\102_bootcamp\\data\\data_mnist\\mnist\\train\\1\n",
      "C:\\Users\\Mertttt\\Desktop\\102_bootcamp\\data\\data_mnist\\mnist\\train\\2\n",
      "C:\\Users\\Mertttt\\Desktop\\102_bootcamp\\data\\data_mnist\\mnist\\train\\3\n",
      "C:\\Users\\Mertttt\\Desktop\\102_bootcamp\\data\\data_mnist\\mnist\\train\\4\n",
      "C:\\Users\\Mertttt\\Desktop\\102_bootcamp\\data\\data_mnist\\mnist\\train\\5\n",
      "C:\\Users\\Mertttt\\Desktop\\102_bootcamp\\data\\data_mnist\\mnist\\train\\6\n",
      "C:\\Users\\Mertttt\\Desktop\\102_bootcamp\\data\\data_mnist\\mnist\\train\\7\n",
      "C:\\Users\\Mertttt\\Desktop\\102_bootcamp\\data\\data_mnist\\mnist\\train\\8\n",
      "C:\\Users\\Mertttt\\Desktop\\102_bootcamp\\data\\data_mnist\\mnist\\train\\9\n"
     ]
    }
   ],
   "source": [
    "trn_x_f, trn_y_f = create_ds_from_file(PATH/\"train\")"
   ]
  },
  {
   "cell_type": "code",
   "execution_count": 60,
   "metadata": {},
   "outputs": [
    {
     "name": "stdout",
     "output_type": "stream",
     "text": [
      "C:\\Users\\Mertttt\\Desktop\\102_bootcamp\\data\\data_mnist\\mnist\\validation\\0\n",
      "C:\\Users\\Mertttt\\Desktop\\102_bootcamp\\data\\data_mnist\\mnist\\validation\\1\n",
      "C:\\Users\\Mertttt\\Desktop\\102_bootcamp\\data\\data_mnist\\mnist\\validation\\2\n",
      "C:\\Users\\Mertttt\\Desktop\\102_bootcamp\\data\\data_mnist\\mnist\\validation\\3\n",
      "C:\\Users\\Mertttt\\Desktop\\102_bootcamp\\data\\data_mnist\\mnist\\validation\\4\n",
      "C:\\Users\\Mertttt\\Desktop\\102_bootcamp\\data\\data_mnist\\mnist\\validation\\5\n",
      "C:\\Users\\Mertttt\\Desktop\\102_bootcamp\\data\\data_mnist\\mnist\\validation\\6\n",
      "C:\\Users\\Mertttt\\Desktop\\102_bootcamp\\data\\data_mnist\\mnist\\validation\\7\n",
      "C:\\Users\\Mertttt\\Desktop\\102_bootcamp\\data\\data_mnist\\mnist\\validation\\8\n",
      "C:\\Users\\Mertttt\\Desktop\\102_bootcamp\\data\\data_mnist\\mnist\\validation\\9\n"
     ]
    }
   ],
   "source": [
    "val_x_f,val_y_f = create_ds_from_file(PATH/\"validation\")"
   ]
  },
  {
   "cell_type": "code",
   "execution_count": 49,
   "metadata": {},
   "outputs": [
    {
     "data": {
      "text/plain": [
       "torch.Size([784])"
      ]
     },
     "execution_count": 49,
     "metadata": {},
     "output_type": "execute_result"
    }
   ],
   "source": [
    "trn_x_f[3].shape"
   ]
  },
  {
   "cell_type": "code",
   "execution_count": 50,
   "metadata": {},
   "outputs": [
    {
     "data": {
      "image/png": "[encoded data removed]",
      "text/plain": [
       "<Figure size 432x288 with 1 Axes>"
      ]
     },
     "metadata": {
      "needs_background": "light"
     },
     "output_type": "display_data"
    }
   ],
   "source": [
    "plt.imshow(trn_x_f[6].view(28,28), cmap = \"gray\");"
   ]
  },
  {
   "cell_type": "code",
   "execution_count": 51,
   "metadata": {},
   "outputs": [],
   "source": [
    "mean_f = trn_x_f.mean()\n",
    "std_f = trn_x_f.std()\n",
    "\n",
    "trn_x_f=(trn_x_f-mean_f)/std_f\n",
    "\n",
    "val_x_f = (val_x_f-mean_f)/std\n"
   ]
  },
  {
   "cell_type": "code",
   "execution_count": 61,
   "metadata": {},
   "outputs": [],
   "source": [
    "train_ds = Dataset(trn_x_f, trn_y_f)\n",
    "valid_ds = Dataset(val_x_f,val_y_f)\n",
    "train_dl = DataLoader(train_ds, 256)\n",
    "valid_dl = DataLoader(valid_ds, 256)"
   ]
  },
  {
   "cell_type": "code",
   "execution_count": 62,
   "metadata": {},
   "outputs": [],
   "source": [
    "model = nn.Sequential(\n",
    "    nn.Linear(784,60),\n",
    "    nn.ReLU(),\n",
    "    nn.Linear(60,10)\n",
    ")"
   ]
  },
  {
   "cell_type": "code",
   "execution_count": 63,
   "metadata": {},
   "outputs": [],
   "source": [
    "optim = torch.optim.SGD(model.parameters(), lr=0.001)"
   ]
  },
  {
   "cell_type": "code",
   "execution_count": 64,
   "metadata": {},
   "outputs": [
    {
     "name": "stdout",
     "output_type": "stream",
     "text": [
      "0.6894985437393188\n",
      "0.8454760313034058\n",
      "0.8688226938247681\n",
      "0.8843568563461304\n",
      "0.8860828280448914\n",
      "0.8897165656089783\n",
      "0.8977107405662537\n",
      "0.8999818563461304\n",
      "0.9030705094337463\n",
      "0.9040697813034058\n"
     ]
    }
   ],
   "source": [
    "train(model,50,5)"
   ]
  },
  {
   "cell_type": "markdown",
   "metadata": {},
   "source": [
    "### Feeding both features we extracted with edge detection and raw pixel images"
   ]
  },
  {
   "cell_type": "code",
   "execution_count": 65,
   "metadata": {},
   "outputs": [],
   "source": [
    "def create_ds_from_file(src):\n",
    "    imgs, labels = [], []\n",
    "    \n",
    "    for label in range(10):\n",
    "        path = src/str(label)\n",
    "        print(path)\n",
    "        t = [o.name for o in os.scandir(path)]\n",
    "        t = _get_files(path, t, extensions = [\".jpg\", \".png\"])\n",
    "        for e in t:\n",
    "            img = np.array(Image.open(e))\n",
    "            l = [np.concatenate((conv(img, kernel).reshape(-1), img.reshape(-1)))]\n",
    "            imgs += l\n",
    "        labels += ([label] * len(t))\n",
    "    return torch.tensor(imgs,  dtype=torch.float32), torch.tensor(labels, dtype=torch.long).view(-1,1)"
   ]
  },
  {
   "cell_type": "code",
   "execution_count": 74,
   "metadata": {},
   "outputs": [
    {
     "name": "stdout",
     "output_type": "stream",
     "text": [
      "C:\\Users\\Mertttt\\Desktop\\102_bootcamp\\data\\data_mnist\\mnist\\train\\0\n",
      "C:\\Users\\Mertttt\\Desktop\\102_bootcamp\\data\\data_mnist\\mnist\\train\\1\n",
      "C:\\Users\\Mertttt\\Desktop\\102_bootcamp\\data\\data_mnist\\mnist\\train\\2\n",
      "C:\\Users\\Mertttt\\Desktop\\102_bootcamp\\data\\data_mnist\\mnist\\train\\3\n",
      "C:\\Users\\Mertttt\\Desktop\\102_bootcamp\\data\\data_mnist\\mnist\\train\\4\n",
      "C:\\Users\\Mertttt\\Desktop\\102_bootcamp\\data\\data_mnist\\mnist\\train\\5\n",
      "C:\\Users\\Mertttt\\Desktop\\102_bootcamp\\data\\data_mnist\\mnist\\train\\6\n",
      "C:\\Users\\Mertttt\\Desktop\\102_bootcamp\\data\\data_mnist\\mnist\\train\\7\n",
      "C:\\Users\\Mertttt\\Desktop\\102_bootcamp\\data\\data_mnist\\mnist\\train\\8\n",
      "C:\\Users\\Mertttt\\Desktop\\102_bootcamp\\data\\data_mnist\\mnist\\train\\9\n"
     ]
    }
   ],
   "source": [
    "trn_x_double, trn_y_double = create_ds_from_file(PATH/\"train\")"
   ]
  },
  {
   "cell_type": "code",
   "execution_count": 75,
   "metadata": {},
   "outputs": [
    {
     "name": "stdout",
     "output_type": "stream",
     "text": [
      "C:\\Users\\Mertttt\\Desktop\\102_bootcamp\\data\\data_mnist\\mnist\\validation\\0\n",
      "C:\\Users\\Mertttt\\Desktop\\102_bootcamp\\data\\data_mnist\\mnist\\validation\\1\n",
      "C:\\Users\\Mertttt\\Desktop\\102_bootcamp\\data\\data_mnist\\mnist\\validation\\2\n",
      "C:\\Users\\Mertttt\\Desktop\\102_bootcamp\\data\\data_mnist\\mnist\\validation\\3\n",
      "C:\\Users\\Mertttt\\Desktop\\102_bootcamp\\data\\data_mnist\\mnist\\validation\\4\n",
      "C:\\Users\\Mertttt\\Desktop\\102_bootcamp\\data\\data_mnist\\mnist\\validation\\5\n",
      "C:\\Users\\Mertttt\\Desktop\\102_bootcamp\\data\\data_mnist\\mnist\\validation\\6\n",
      "C:\\Users\\Mertttt\\Desktop\\102_bootcamp\\data\\data_mnist\\mnist\\validation\\7\n",
      "C:\\Users\\Mertttt\\Desktop\\102_bootcamp\\data\\data_mnist\\mnist\\validation\\8\n",
      "C:\\Users\\Mertttt\\Desktop\\102_bootcamp\\data\\data_mnist\\mnist\\validation\\9\n"
     ]
    }
   ],
   "source": [
    "val_x_double,val_y_double = create_ds_from_file(PATH/\"validation\")"
   ]
  },
  {
   "cell_type": "code",
   "execution_count": 99,
   "metadata": {},
   "outputs": [
    {
     "data": {
      "image/png": "[encoded data removed]",
      "text/plain": [
       "<Figure size 432x288 with 1 Axes>"
      ]
     },
     "metadata": {
      "needs_background": "light"
     },
     "output_type": "display_data"
    }
   ],
   "source": [
    "plt.imshow(trn_x_do[0].view(56,28), cmap = \"gray\");"
   ]
  },
  {
   "cell_type": "code",
   "execution_count": 77,
   "metadata": {},
   "outputs": [
    {
     "data": {
      "text/plain": [
       "(tensor(18.2777), tensor(44.2487), tensor(2.3223e-05), tensor(1.))"
      ]
     },
     "execution_count": 77,
     "metadata": {},
     "output_type": "execute_result"
    }
   ],
   "source": [
    "mean_raw = trn_x_double[:,0:784].mean()\n",
    "std_raw = trn_x_double[:,0:784].std()\n",
    "\n",
    "trn_x_double[:,0:784] = (trn_x_double[:,0:784] - mean_raw) / std_raw\n",
    "mean_raw, std_raw, trn_x_double[:,0:784].mean(), trn_x_double[:,0:784].std()"
   ]
  },
  {
   "cell_type": "code",
   "execution_count": 78,
   "metadata": {},
   "outputs": [
    {
     "data": {
      "text/plain": [
       "(tensor(34.3391), tensor(77.5014), tensor(5.1496e-05), tensor(1.0000))"
      ]
     },
     "execution_count": 78,
     "metadata": {},
     "output_type": "execute_result"
    }
   ],
   "source": [
    "mean_filt = trn_x_double[:,784:].mean()\n",
    "std_filt = trn_x_double[:,784:].std()\n",
    "\n",
    "trn_x_double[:,784:] = (trn_x_double[:,784:] - mean_filt) / std_filt\n",
    "mean_filt, std_filt, trn_x_double[:,784:].mean(), trn_x_double[:,784:].std()"
   ]
  },
  {
   "cell_type": "code",
   "execution_count": 89,
   "metadata": {},
   "outputs": [
    {
     "data": {
      "text/plain": [
       "(torch.Size([31216, 1568]),\n",
       " torch.Size([31216, 1]),\n",
       " torch.Size([10784, 1568]),\n",
       " torch.Size([10784, 1]))"
      ]
     },
     "execution_count": 89,
     "metadata": {},
     "output_type": "execute_result"
    }
   ],
   "source": [
    "trn_x_double.shape, trn_y_double.shape, val_x_double.shape, val_y_double.shape"
   ]
  },
  {
   "cell_type": "code",
   "execution_count": 94,
   "metadata": {},
   "outputs": [],
   "source": [
    "train_ds_double = Dataset(trn_x_double, trn_y_double)\n",
    "valid_ds_double = Dataset(val_x_double,val_y_double)\n",
    "train_dl_double = DataLoader(train_ds, 256)\n",
    "valid_dl_double = DataLoader(valid_ds, 256)"
   ]
  },
  {
   "cell_type": "code",
   "execution_count": 95,
   "metadata": {},
   "outputs": [
    {
     "data": {
      "image/png": "[encoded data removed]",
      "text/plain": [
       "<Figure size 432x288 with 1 Axes>"
      ]
     },
     "metadata": {
      "needs_background": "light"
     },
     "output_type": "display_data"
    }
   ],
   "source": [
    "plt.imshow(trn_x_double[0].view(56,28), cmap = \"gray\");"
   ]
  },
  {
   "cell_type": "code",
   "execution_count": 96,
   "metadata": {},
   "outputs": [],
   "source": [
    "model = nn.Sequential(\n",
    "    nn.Linear(56*28,60),\n",
    "    nn.ReLU(),\n",
    "    nn.Linear(60,10)\n",
    ")"
   ]
  },
  {
   "cell_type": "code",
   "execution_count": 97,
   "metadata": {},
   "outputs": [],
   "source": [
    "optim = torch.optim.SGD(model.parameters(), lr=0.001)"
   ]
  },
  {
   "cell_type": "code",
   "execution_count": 98,
   "metadata": {},
   "outputs": [
    {
     "ename": "RuntimeError",
     "evalue": "size mismatch, m1: [256 x 784], m2: [1568 x 60] at ..\\aten\\src\\TH/generic/THTensorMath.cpp:41",
     "output_type": "error",
     "traceback": [
      "\u001b[1;31m---------------------------------------------------------------------------\u001b[0m",
      "\u001b[1;31mRuntimeError\u001b[0m                              Traceback (most recent call last)",
      "\u001b[1;32m<ipython-input-98-62ecf8d4e5fc>\u001b[0m in \u001b[0;36m<module>\u001b[1;34m()\u001b[0m\n\u001b[1;32m----> 1\u001b[1;33m \u001b[0mtrain\u001b[0m\u001b[1;33m(\u001b[0m\u001b[0mmodel\u001b[0m\u001b[1;33m,\u001b[0m\u001b[1;36m50\u001b[0m\u001b[1;33m,\u001b[0m\u001b[1;36m5\u001b[0m\u001b[1;33m)\u001b[0m\u001b[1;33m\u001b[0m\u001b[0m\n\u001b[0m",
      "\u001b[1;32m<ipython-input-20-f6b43ce55f5b>\u001b[0m in \u001b[0;36mtrain\u001b[1;34m(model, epochs, valid_epoch)\u001b[0m\n\u001b[0;32m     19\u001b[0m         \u001b[1;32mfor\u001b[0m \u001b[0mxb\u001b[0m\u001b[1;33m,\u001b[0m \u001b[0myb\u001b[0m \u001b[1;32min\u001b[0m \u001b[0mtrain_dl\u001b[0m\u001b[1;33m:\u001b[0m\u001b[1;33m\u001b[0m\u001b[0m\n\u001b[0;32m     20\u001b[0m \u001b[1;33m\u001b[0m\u001b[0m\n\u001b[1;32m---> 21\u001b[1;33m             \u001b[0mpreds\u001b[0m \u001b[1;33m=\u001b[0m \u001b[0mmodel\u001b[0m\u001b[1;33m(\u001b[0m\u001b[0mxb\u001b[0m\u001b[1;33m)\u001b[0m\u001b[1;33m\u001b[0m\u001b[0m\n\u001b[0m\u001b[0;32m     22\u001b[0m             \u001b[0mloss\u001b[0m \u001b[1;33m=\u001b[0m \u001b[0mloss_func\u001b[0m\u001b[1;33m(\u001b[0m\u001b[0mpreds\u001b[0m\u001b[1;33m,\u001b[0m \u001b[0myb\u001b[0m\u001b[1;33m.\u001b[0m\u001b[0msqueeze\u001b[0m\u001b[1;33m(\u001b[0m\u001b[1;33m)\u001b[0m\u001b[1;33m)\u001b[0m\u001b[1;33m\u001b[0m\u001b[0m\n\u001b[0;32m     23\u001b[0m             \u001b[0mloss\u001b[0m\u001b[1;33m.\u001b[0m\u001b[0mbackward\u001b[0m\u001b[1;33m(\u001b[0m\u001b[1;33m)\u001b[0m\u001b[1;33m\u001b[0m\u001b[0m\n",
      "\u001b[1;32m~\\Anaconda3\\lib\\site-packages\\torch\\nn\\modules\\module.py\u001b[0m in \u001b[0;36m_call_impl\u001b[1;34m(self, *input, **kwargs)\u001b[0m\n\u001b[0;32m    720\u001b[0m             \u001b[0mresult\u001b[0m \u001b[1;33m=\u001b[0m \u001b[0mself\u001b[0m\u001b[1;33m.\u001b[0m\u001b[0m_slow_forward\u001b[0m\u001b[1;33m(\u001b[0m\u001b[1;33m*\u001b[0m\u001b[0minput\u001b[0m\u001b[1;33m,\u001b[0m \u001b[1;33m**\u001b[0m\u001b[0mkwargs\u001b[0m\u001b[1;33m)\u001b[0m\u001b[1;33m\u001b[0m\u001b[0m\n\u001b[0;32m    721\u001b[0m         \u001b[1;32melse\u001b[0m\u001b[1;33m:\u001b[0m\u001b[1;33m\u001b[0m\u001b[0m\n\u001b[1;32m--> 722\u001b[1;33m             \u001b[0mresult\u001b[0m \u001b[1;33m=\u001b[0m \u001b[0mself\u001b[0m\u001b[1;33m.\u001b[0m\u001b[0mforward\u001b[0m\u001b[1;33m(\u001b[0m\u001b[1;33m*\u001b[0m\u001b[0minput\u001b[0m\u001b[1;33m,\u001b[0m \u001b[1;33m**\u001b[0m\u001b[0mkwargs\u001b[0m\u001b[1;33m)\u001b[0m\u001b[1;33m\u001b[0m\u001b[0m\n\u001b[0m\u001b[0;32m    723\u001b[0m         for hook in itertools.chain(\n\u001b[0;32m    724\u001b[0m                 \u001b[0m_global_forward_hooks\u001b[0m\u001b[1;33m.\u001b[0m\u001b[0mvalues\u001b[0m\u001b[1;33m(\u001b[0m\u001b[1;33m)\u001b[0m\u001b[1;33m,\u001b[0m\u001b[1;33m\u001b[0m\u001b[0m\n",
      "\u001b[1;32m~\\Anaconda3\\lib\\site-packages\\torch\\nn\\modules\\container.py\u001b[0m in \u001b[0;36mforward\u001b[1;34m(self, input)\u001b[0m\n\u001b[0;32m    115\u001b[0m     \u001b[1;32mdef\u001b[0m \u001b[0mforward\u001b[0m\u001b[1;33m(\u001b[0m\u001b[0mself\u001b[0m\u001b[1;33m,\u001b[0m \u001b[0minput\u001b[0m\u001b[1;33m)\u001b[0m\u001b[1;33m:\u001b[0m\u001b[1;33m\u001b[0m\u001b[0m\n\u001b[0;32m    116\u001b[0m         \u001b[1;32mfor\u001b[0m \u001b[0mmodule\u001b[0m \u001b[1;32min\u001b[0m \u001b[0mself\u001b[0m\u001b[1;33m:\u001b[0m\u001b[1;33m\u001b[0m\u001b[0m\n\u001b[1;32m--> 117\u001b[1;33m             \u001b[0minput\u001b[0m \u001b[1;33m=\u001b[0m \u001b[0mmodule\u001b[0m\u001b[1;33m(\u001b[0m\u001b[0minput\u001b[0m\u001b[1;33m)\u001b[0m\u001b[1;33m\u001b[0m\u001b[0m\n\u001b[0m\u001b[0;32m    118\u001b[0m         \u001b[1;32mreturn\u001b[0m \u001b[0minput\u001b[0m\u001b[1;33m\u001b[0m\u001b[0m\n\u001b[0;32m    119\u001b[0m \u001b[1;33m\u001b[0m\u001b[0m\n",
      "\u001b[1;32m~\\Anaconda3\\lib\\site-packages\\torch\\nn\\modules\\module.py\u001b[0m in \u001b[0;36m_call_impl\u001b[1;34m(self, *input, **kwargs)\u001b[0m\n\u001b[0;32m    720\u001b[0m             \u001b[0mresult\u001b[0m \u001b[1;33m=\u001b[0m \u001b[0mself\u001b[0m\u001b[1;33m.\u001b[0m\u001b[0m_slow_forward\u001b[0m\u001b[1;33m(\u001b[0m\u001b[1;33m*\u001b[0m\u001b[0minput\u001b[0m\u001b[1;33m,\u001b[0m \u001b[1;33m**\u001b[0m\u001b[0mkwargs\u001b[0m\u001b[1;33m)\u001b[0m\u001b[1;33m\u001b[0m\u001b[0m\n\u001b[0;32m    721\u001b[0m         \u001b[1;32melse\u001b[0m\u001b[1;33m:\u001b[0m\u001b[1;33m\u001b[0m\u001b[0m\n\u001b[1;32m--> 722\u001b[1;33m             \u001b[0mresult\u001b[0m \u001b[1;33m=\u001b[0m \u001b[0mself\u001b[0m\u001b[1;33m.\u001b[0m\u001b[0mforward\u001b[0m\u001b[1;33m(\u001b[0m\u001b[1;33m*\u001b[0m\u001b[0minput\u001b[0m\u001b[1;33m,\u001b[0m \u001b[1;33m**\u001b[0m\u001b[0mkwargs\u001b[0m\u001b[1;33m)\u001b[0m\u001b[1;33m\u001b[0m\u001b[0m\n\u001b[0m\u001b[0;32m    723\u001b[0m         for hook in itertools.chain(\n\u001b[0;32m    724\u001b[0m                 \u001b[0m_global_forward_hooks\u001b[0m\u001b[1;33m.\u001b[0m\u001b[0mvalues\u001b[0m\u001b[1;33m(\u001b[0m\u001b[1;33m)\u001b[0m\u001b[1;33m,\u001b[0m\u001b[1;33m\u001b[0m\u001b[0m\n",
      "\u001b[1;32m~\\Anaconda3\\lib\\site-packages\\torch\\nn\\modules\\linear.py\u001b[0m in \u001b[0;36mforward\u001b[1;34m(self, input)\u001b[0m\n\u001b[0;32m     89\u001b[0m \u001b[1;33m\u001b[0m\u001b[0m\n\u001b[0;32m     90\u001b[0m     \u001b[1;32mdef\u001b[0m \u001b[0mforward\u001b[0m\u001b[1;33m(\u001b[0m\u001b[0mself\u001b[0m\u001b[1;33m,\u001b[0m \u001b[0minput\u001b[0m\u001b[1;33m:\u001b[0m \u001b[0mTensor\u001b[0m\u001b[1;33m)\u001b[0m \u001b[1;33m->\u001b[0m \u001b[0mTensor\u001b[0m\u001b[1;33m:\u001b[0m\u001b[1;33m\u001b[0m\u001b[0m\n\u001b[1;32m---> 91\u001b[1;33m         \u001b[1;32mreturn\u001b[0m \u001b[0mF\u001b[0m\u001b[1;33m.\u001b[0m\u001b[0mlinear\u001b[0m\u001b[1;33m(\u001b[0m\u001b[0minput\u001b[0m\u001b[1;33m,\u001b[0m \u001b[0mself\u001b[0m\u001b[1;33m.\u001b[0m\u001b[0mweight\u001b[0m\u001b[1;33m,\u001b[0m \u001b[0mself\u001b[0m\u001b[1;33m.\u001b[0m\u001b[0mbias\u001b[0m\u001b[1;33m)\u001b[0m\u001b[1;33m\u001b[0m\u001b[0m\n\u001b[0m\u001b[0;32m     92\u001b[0m \u001b[1;33m\u001b[0m\u001b[0m\n\u001b[0;32m     93\u001b[0m     \u001b[1;32mdef\u001b[0m \u001b[0mextra_repr\u001b[0m\u001b[1;33m(\u001b[0m\u001b[0mself\u001b[0m\u001b[1;33m)\u001b[0m \u001b[1;33m->\u001b[0m \u001b[0mstr\u001b[0m\u001b[1;33m:\u001b[0m\u001b[1;33m\u001b[0m\u001b[0m\n",
      "\u001b[1;32m~\\Anaconda3\\lib\\site-packages\\torch\\nn\\functional.py\u001b[0m in \u001b[0;36mlinear\u001b[1;34m(input, weight, bias)\u001b[0m\n\u001b[0;32m   1672\u001b[0m     \u001b[1;32mif\u001b[0m \u001b[0minput\u001b[0m\u001b[1;33m.\u001b[0m\u001b[0mdim\u001b[0m\u001b[1;33m(\u001b[0m\u001b[1;33m)\u001b[0m \u001b[1;33m==\u001b[0m \u001b[1;36m2\u001b[0m \u001b[1;32mand\u001b[0m \u001b[0mbias\u001b[0m \u001b[1;32mis\u001b[0m \u001b[1;32mnot\u001b[0m \u001b[1;32mNone\u001b[0m\u001b[1;33m:\u001b[0m\u001b[1;33m\u001b[0m\u001b[0m\n\u001b[0;32m   1673\u001b[0m         \u001b[1;31m# fused op is marginally faster\u001b[0m\u001b[1;33m\u001b[0m\u001b[1;33m\u001b[0m\u001b[0m\n\u001b[1;32m-> 1674\u001b[1;33m         \u001b[0mret\u001b[0m \u001b[1;33m=\u001b[0m \u001b[0mtorch\u001b[0m\u001b[1;33m.\u001b[0m\u001b[0maddmm\u001b[0m\u001b[1;33m(\u001b[0m\u001b[0mbias\u001b[0m\u001b[1;33m,\u001b[0m \u001b[0minput\u001b[0m\u001b[1;33m,\u001b[0m \u001b[0mweight\u001b[0m\u001b[1;33m.\u001b[0m\u001b[0mt\u001b[0m\u001b[1;33m(\u001b[0m\u001b[1;33m)\u001b[0m\u001b[1;33m)\u001b[0m\u001b[1;33m\u001b[0m\u001b[0m\n\u001b[0m\u001b[0;32m   1675\u001b[0m     \u001b[1;32melse\u001b[0m\u001b[1;33m:\u001b[0m\u001b[1;33m\u001b[0m\u001b[0m\n\u001b[0;32m   1676\u001b[0m         \u001b[0moutput\u001b[0m \u001b[1;33m=\u001b[0m \u001b[0minput\u001b[0m\u001b[1;33m.\u001b[0m\u001b[0mmatmul\u001b[0m\u001b[1;33m(\u001b[0m\u001b[0mweight\u001b[0m\u001b[1;33m.\u001b[0m\u001b[0mt\u001b[0m\u001b[1;33m(\u001b[0m\u001b[1;33m)\u001b[0m\u001b[1;33m)\u001b[0m\u001b[1;33m\u001b[0m\u001b[0m\n",
      "\u001b[1;31mRuntimeError\u001b[0m: size mismatch, m1: [256 x 784], m2: [1568 x 60] at ..\\aten\\src\\TH/generic/THTensorMath.cpp:41"
     ]
    }
   ],
   "source": [
    "train(model,50,5)"
   ]
  },
  {
   "cell_type": "markdown",
   "metadata": {},
   "source": [
    "### Let's try different things on cnn model"
   ]
  },
  {
   "cell_type": "code",
   "execution_count": 100,
   "metadata": {},
   "outputs": [],
   "source": [
    "def create_ds_from_file(src):\n",
    "    imgs, labels = [], []\n",
    "    \n",
    "    for label in range(10):\n",
    "        path = src/str(label)\n",
    "        print(path)\n",
    "        t = [o.name for o in os.scandir(path)]\n",
    "        t = _get_files(path, t, extensions = [\".jpg\", \".png\"])\n",
    "        for e in t:\n",
    "            l = [np.array(Image.open(e)).reshape(28*28)]\n",
    "            imgs += l\n",
    "        labels += ([label] * len(t))\n",
    "    return torch.tensor(imgs,  dtype=torch.float32), torch.tensor(labels, dtype=torch.long).view(-1,1)"
   ]
  },
  {
   "cell_type": "code",
   "execution_count": 101,
   "metadata": {},
   "outputs": [
    {
     "name": "stdout",
     "output_type": "stream",
     "text": [
      "C:\\Users\\Mertttt\\Desktop\\102_bootcamp\\data\\data_mnist\\mnist\\train\\0\n",
      "C:\\Users\\Mertttt\\Desktop\\102_bootcamp\\data\\data_mnist\\mnist\\train\\1\n",
      "C:\\Users\\Mertttt\\Desktop\\102_bootcamp\\data\\data_mnist\\mnist\\train\\2\n",
      "C:\\Users\\Mertttt\\Desktop\\102_bootcamp\\data\\data_mnist\\mnist\\train\\3\n",
      "C:\\Users\\Mertttt\\Desktop\\102_bootcamp\\data\\data_mnist\\mnist\\train\\4\n",
      "C:\\Users\\Mertttt\\Desktop\\102_bootcamp\\data\\data_mnist\\mnist\\train\\5\n",
      "C:\\Users\\Mertttt\\Desktop\\102_bootcamp\\data\\data_mnist\\mnist\\train\\6\n",
      "C:\\Users\\Mertttt\\Desktop\\102_bootcamp\\data\\data_mnist\\mnist\\train\\7\n",
      "C:\\Users\\Mertttt\\Desktop\\102_bootcamp\\data\\data_mnist\\mnist\\train\\8\n",
      "C:\\Users\\Mertttt\\Desktop\\102_bootcamp\\data\\data_mnist\\mnist\\train\\9\n"
     ]
    }
   ],
   "source": [
    "trn_x, trn_y = create_ds_from_file(PATH/\"train\")"
   ]
  },
  {
   "cell_type": "code",
   "execution_count": 102,
   "metadata": {},
   "outputs": [
    {
     "name": "stdout",
     "output_type": "stream",
     "text": [
      "C:\\Users\\Mertttt\\Desktop\\102_bootcamp\\data\\data_mnist\\mnist\\validation\\0\n",
      "C:\\Users\\Mertttt\\Desktop\\102_bootcamp\\data\\data_mnist\\mnist\\validation\\1\n",
      "C:\\Users\\Mertttt\\Desktop\\102_bootcamp\\data\\data_mnist\\mnist\\validation\\2\n",
      "C:\\Users\\Mertttt\\Desktop\\102_bootcamp\\data\\data_mnist\\mnist\\validation\\3\n",
      "C:\\Users\\Mertttt\\Desktop\\102_bootcamp\\data\\data_mnist\\mnist\\validation\\4\n",
      "C:\\Users\\Mertttt\\Desktop\\102_bootcamp\\data\\data_mnist\\mnist\\validation\\5\n",
      "C:\\Users\\Mertttt\\Desktop\\102_bootcamp\\data\\data_mnist\\mnist\\validation\\6\n",
      "C:\\Users\\Mertttt\\Desktop\\102_bootcamp\\data\\data_mnist\\mnist\\validation\\7\n",
      "C:\\Users\\Mertttt\\Desktop\\102_bootcamp\\data\\data_mnist\\mnist\\validation\\8\n",
      "C:\\Users\\Mertttt\\Desktop\\102_bootcamp\\data\\data_mnist\\mnist\\validation\\9\n"
     ]
    }
   ],
   "source": [
    "val_x,val_y = create_ds_from_file(PATH/\"validation\")"
   ]
  },
  {
   "cell_type": "code",
   "execution_count": 103,
   "metadata": {},
   "outputs": [
    {
     "data": {
      "text/plain": [
       "(tensor(34.3409), tensor(77.5014), tensor(2.2117e-05), tensor(1.0000))"
      ]
     },
     "execution_count": 103,
     "metadata": {},
     "output_type": "execute_result"
    }
   ],
   "source": [
    "# there is little error here, can you spot it ?\n",
    "mean = trn_x.mean()\n",
    "std = trn_x.std()\n",
    "\n",
    "trn_x=(trn_x-mean)/std\n",
    "mean, std, trn_x.mean(), trn_x.std()"
   ]
  },
  {
   "cell_type": "code",
   "execution_count": 104,
   "metadata": {},
   "outputs": [
    {
     "data": {
      "text/plain": [
       "(tensor(0.0042), tensor(1.0038))"
      ]
     },
     "execution_count": 104,
     "metadata": {},
     "output_type": "execute_result"
    }
   ],
   "source": [
    "val_x = (val_x-mean)/std\n",
    "val_x.mean(), val_x.std()"
   ]
  },
  {
   "cell_type": "code",
   "execution_count": 124,
   "metadata": {},
   "outputs": [],
   "source": [
    "class Dataset():\n",
    "    def __init__(self, x, y): \n",
    "        self.x,self.y = x,y\n",
    "    def __len__(self): \n",
    "        return len(self.x)\n",
    "    def __getitem__(self, i): \n",
    "        return self.x[i].view(-1,1,28,28),self.y[i]\n",
    "\n",
    "\n",
    "class DataLoader():\n",
    "    def __init__(self, ds, bs): \n",
    "        self.ds, self.bs = ds, bs\n",
    "    def __iter__(self):\n",
    "        n = len(self.ds)\n",
    "        l = torch.randperm(n)\n",
    "\n",
    "        \n",
    "        for i in range(0, n, self.bs): \n",
    "            idxs_l = l[i:i+self.bs]\n",
    "            yield self.ds[idxs_l]"
   ]
  },
  {
   "cell_type": "code",
   "execution_count": 125,
   "metadata": {},
   "outputs": [],
   "source": [
    "train_ds = Dataset(trn_x, trn_y)\n",
    "valid_ds = Dataset(val_x,val_y)"
   ]
  },
  {
   "cell_type": "code",
   "execution_count": 126,
   "metadata": {},
   "outputs": [],
   "source": [
    "train_dl = DataLoader(train_ds, 256)\n",
    "valid_dl = DataLoader(valid_ds, 256)"
   ]
  },
  {
   "cell_type": "code",
   "execution_count": 127,
   "metadata": {},
   "outputs": [],
   "source": [
    "import torch.nn.functional as F"
   ]
  },
  {
   "cell_type": "code",
   "execution_count": 128,
   "metadata": {},
   "outputs": [],
   "source": [
    "class Func(nn.Module):\n",
    "    def __init__(self, func):\n",
    "        super().__init__()\n",
    "        self.func = func\n",
    "\n",
    "    def forward(self, x): \n",
    "        return self.func(x)\n",
    "def flatten(x):      \n",
    "    return x.view(x.shape[0], -1)"
   ]
  },
  {
   "cell_type": "code",
   "execution_count": 129,
   "metadata": {},
   "outputs": [],
   "source": [
    "def print_t(x):      \n",
    "    print(x.shape)\n",
    "    return x"
   ]
  },
  {
   "cell_type": "code",
   "execution_count": 130,
   "metadata": {},
   "outputs": [],
   "source": [
    "model = nn.Sequential(\n",
    "        nn.Conv2d(1, 8, 5, padding=2,stride=2), nn.ReLU(), #14\n",
    "        nn.Conv2d(8, 16, 3, padding=1,stride=2), nn.ReLU(), # 7\n",
    "        nn.Conv2d(16, 32, 3, padding=1,stride=2), nn.ReLU(), # 4\n",
    "        nn.Conv2d(32, 32, 3, padding=1,stride=2), nn.ReLU(), # 2\n",
    "        #Func(print_t),\n",
    "        nn.AdaptiveAvgPool2d(1),\n",
    "        Func(flatten),\n",
    "        nn.Linear(32,10)\n",
    ")"
   ]
  },
  {
   "cell_type": "code",
   "execution_count": 131,
   "metadata": {},
   "outputs": [],
   "source": [
    "optim = torch.optim.SGD(model.parameters(), lr=0.01, weight_decay=1e-3)"
   ]
  },
  {
   "cell_type": "code",
   "execution_count": 132,
   "metadata": {},
   "outputs": [
    {
     "name": "stdout",
     "output_type": "stream",
     "text": [
      "0.10183502733707428\n",
      "0.2291969507932663\n",
      "0.871911346912384\n",
      "0.9152434468269348\n",
      "0.934138834476471\n",
      "0.9435864686965942\n",
      "0.9495820999145508\n",
      "0.9546693563461304\n"
     ]
    }
   ],
   "source": [
    "train(model,80,10)"
   ]
  },
  {
   "cell_type": "code",
   "execution_count": 133,
   "metadata": {},
   "outputs": [],
   "source": [
    "model = nn.Sequential(\n",
    "        nn.Conv2d(1, 16, 3, padding=1,stride=2), nn.ReLU(), #14\n",
    "        nn.Conv2d(16, 32, 3, padding=1,stride=2), nn.ReLU(), # 7\n",
    "        nn.Conv2d(32, 64, 3, padding=1,stride=2), nn.ReLU(), # 4\n",
    "        nn.Conv2d(64, 64, 3, padding=1,stride=2), nn.ReLU(), # 2\n",
    "        #Func(print_t),\n",
    "        nn.AdaptiveAvgPool2d(1),\n",
    "        Func(flatten),\n",
    "        nn.Linear(32,10)\n",
    ")"
   ]
  },
  {
   "cell_type": "code",
   "execution_count": 134,
   "metadata": {},
   "outputs": [],
   "source": [
    "optim = torch.optim.SGD(model.parameters(), lr=0.01, weight_decay=1e-3)"
   ]
  },
  {
   "cell_type": "code",
   "execution_count": 136,
   "metadata": {},
   "outputs": [
    {
     "ename": "RuntimeError",
     "evalue": "size mismatch, m1: [256 x 64], m2: [32 x 10] at ..\\aten\\src\\TH/generic/THTensorMath.cpp:41",
     "output_type": "error",
     "traceback": [
      "\u001b[1;31m---------------------------------------------------------------------------\u001b[0m",
      "\u001b[1;31mRuntimeError\u001b[0m                              Traceback (most recent call last)",
      "\u001b[1;32m<ipython-input-136-901ad52ad9f3>\u001b[0m in \u001b[0;36m<module>\u001b[1;34m()\u001b[0m\n\u001b[1;32m----> 1\u001b[1;33m \u001b[0mtrain\u001b[0m\u001b[1;33m(\u001b[0m\u001b[0mmodel\u001b[0m\u001b[1;33m,\u001b[0m\u001b[1;36m80\u001b[0m\u001b[1;33m,\u001b[0m\u001b[1;36m10\u001b[0m\u001b[1;33m)\u001b[0m\u001b[1;33m\u001b[0m\u001b[0m\n\u001b[0m",
      "\u001b[1;32m<ipython-input-20-f6b43ce55f5b>\u001b[0m in \u001b[0;36mtrain\u001b[1;34m(model, epochs, valid_epoch)\u001b[0m\n\u001b[0;32m     19\u001b[0m         \u001b[1;32mfor\u001b[0m \u001b[0mxb\u001b[0m\u001b[1;33m,\u001b[0m \u001b[0myb\u001b[0m \u001b[1;32min\u001b[0m \u001b[0mtrain_dl\u001b[0m\u001b[1;33m:\u001b[0m\u001b[1;33m\u001b[0m\u001b[0m\n\u001b[0;32m     20\u001b[0m \u001b[1;33m\u001b[0m\u001b[0m\n\u001b[1;32m---> 21\u001b[1;33m             \u001b[0mpreds\u001b[0m \u001b[1;33m=\u001b[0m \u001b[0mmodel\u001b[0m\u001b[1;33m(\u001b[0m\u001b[0mxb\u001b[0m\u001b[1;33m)\u001b[0m\u001b[1;33m\u001b[0m\u001b[0m\n\u001b[0m\u001b[0;32m     22\u001b[0m             \u001b[0mloss\u001b[0m \u001b[1;33m=\u001b[0m \u001b[0mloss_func\u001b[0m\u001b[1;33m(\u001b[0m\u001b[0mpreds\u001b[0m\u001b[1;33m,\u001b[0m \u001b[0myb\u001b[0m\u001b[1;33m.\u001b[0m\u001b[0msqueeze\u001b[0m\u001b[1;33m(\u001b[0m\u001b[1;33m)\u001b[0m\u001b[1;33m)\u001b[0m\u001b[1;33m\u001b[0m\u001b[0m\n\u001b[0;32m     23\u001b[0m             \u001b[0mloss\u001b[0m\u001b[1;33m.\u001b[0m\u001b[0mbackward\u001b[0m\u001b[1;33m(\u001b[0m\u001b[1;33m)\u001b[0m\u001b[1;33m\u001b[0m\u001b[0m\n",
      "\u001b[1;32m~\\Anaconda3\\lib\\site-packages\\torch\\nn\\modules\\module.py\u001b[0m in \u001b[0;36m_call_impl\u001b[1;34m(self, *input, **kwargs)\u001b[0m\n\u001b[0;32m    720\u001b[0m             \u001b[0mresult\u001b[0m \u001b[1;33m=\u001b[0m \u001b[0mself\u001b[0m\u001b[1;33m.\u001b[0m\u001b[0m_slow_forward\u001b[0m\u001b[1;33m(\u001b[0m\u001b[1;33m*\u001b[0m\u001b[0minput\u001b[0m\u001b[1;33m,\u001b[0m \u001b[1;33m**\u001b[0m\u001b[0mkwargs\u001b[0m\u001b[1;33m)\u001b[0m\u001b[1;33m\u001b[0m\u001b[0m\n\u001b[0;32m    721\u001b[0m         \u001b[1;32melse\u001b[0m\u001b[1;33m:\u001b[0m\u001b[1;33m\u001b[0m\u001b[0m\n\u001b[1;32m--> 722\u001b[1;33m             \u001b[0mresult\u001b[0m \u001b[1;33m=\u001b[0m \u001b[0mself\u001b[0m\u001b[1;33m.\u001b[0m\u001b[0mforward\u001b[0m\u001b[1;33m(\u001b[0m\u001b[1;33m*\u001b[0m\u001b[0minput\u001b[0m\u001b[1;33m,\u001b[0m \u001b[1;33m**\u001b[0m\u001b[0mkwargs\u001b[0m\u001b[1;33m)\u001b[0m\u001b[1;33m\u001b[0m\u001b[0m\n\u001b[0m\u001b[0;32m    723\u001b[0m         for hook in itertools.chain(\n\u001b[0;32m    724\u001b[0m                 \u001b[0m_global_forward_hooks\u001b[0m\u001b[1;33m.\u001b[0m\u001b[0mvalues\u001b[0m\u001b[1;33m(\u001b[0m\u001b[1;33m)\u001b[0m\u001b[1;33m,\u001b[0m\u001b[1;33m\u001b[0m\u001b[0m\n",
      "\u001b[1;32m~\\Anaconda3\\lib\\site-packages\\torch\\nn\\modules\\container.py\u001b[0m in \u001b[0;36mforward\u001b[1;34m(self, input)\u001b[0m\n\u001b[0;32m    115\u001b[0m     \u001b[1;32mdef\u001b[0m \u001b[0mforward\u001b[0m\u001b[1;33m(\u001b[0m\u001b[0mself\u001b[0m\u001b[1;33m,\u001b[0m \u001b[0minput\u001b[0m\u001b[1;33m)\u001b[0m\u001b[1;33m:\u001b[0m\u001b[1;33m\u001b[0m\u001b[0m\n\u001b[0;32m    116\u001b[0m         \u001b[1;32mfor\u001b[0m \u001b[0mmodule\u001b[0m \u001b[1;32min\u001b[0m \u001b[0mself\u001b[0m\u001b[1;33m:\u001b[0m\u001b[1;33m\u001b[0m\u001b[0m\n\u001b[1;32m--> 117\u001b[1;33m             \u001b[0minput\u001b[0m \u001b[1;33m=\u001b[0m \u001b[0mmodule\u001b[0m\u001b[1;33m(\u001b[0m\u001b[0minput\u001b[0m\u001b[1;33m)\u001b[0m\u001b[1;33m\u001b[0m\u001b[0m\n\u001b[0m\u001b[0;32m    118\u001b[0m         \u001b[1;32mreturn\u001b[0m \u001b[0minput\u001b[0m\u001b[1;33m\u001b[0m\u001b[0m\n\u001b[0;32m    119\u001b[0m \u001b[1;33m\u001b[0m\u001b[0m\n",
      "\u001b[1;32m~\\Anaconda3\\lib\\site-packages\\torch\\nn\\modules\\module.py\u001b[0m in \u001b[0;36m_call_impl\u001b[1;34m(self, *input, **kwargs)\u001b[0m\n\u001b[0;32m    720\u001b[0m             \u001b[0mresult\u001b[0m \u001b[1;33m=\u001b[0m \u001b[0mself\u001b[0m\u001b[1;33m.\u001b[0m\u001b[0m_slow_forward\u001b[0m\u001b[1;33m(\u001b[0m\u001b[1;33m*\u001b[0m\u001b[0minput\u001b[0m\u001b[1;33m,\u001b[0m \u001b[1;33m**\u001b[0m\u001b[0mkwargs\u001b[0m\u001b[1;33m)\u001b[0m\u001b[1;33m\u001b[0m\u001b[0m\n\u001b[0;32m    721\u001b[0m         \u001b[1;32melse\u001b[0m\u001b[1;33m:\u001b[0m\u001b[1;33m\u001b[0m\u001b[0m\n\u001b[1;32m--> 722\u001b[1;33m             \u001b[0mresult\u001b[0m \u001b[1;33m=\u001b[0m \u001b[0mself\u001b[0m\u001b[1;33m.\u001b[0m\u001b[0mforward\u001b[0m\u001b[1;33m(\u001b[0m\u001b[1;33m*\u001b[0m\u001b[0minput\u001b[0m\u001b[1;33m,\u001b[0m \u001b[1;33m**\u001b[0m\u001b[0mkwargs\u001b[0m\u001b[1;33m)\u001b[0m\u001b[1;33m\u001b[0m\u001b[0m\n\u001b[0m\u001b[0;32m    723\u001b[0m         for hook in itertools.chain(\n\u001b[0;32m    724\u001b[0m                 \u001b[0m_global_forward_hooks\u001b[0m\u001b[1;33m.\u001b[0m\u001b[0mvalues\u001b[0m\u001b[1;33m(\u001b[0m\u001b[1;33m)\u001b[0m\u001b[1;33m,\u001b[0m\u001b[1;33m\u001b[0m\u001b[0m\n",
      "\u001b[1;32m~\\Anaconda3\\lib\\site-packages\\torch\\nn\\modules\\linear.py\u001b[0m in \u001b[0;36mforward\u001b[1;34m(self, input)\u001b[0m\n\u001b[0;32m     89\u001b[0m \u001b[1;33m\u001b[0m\u001b[0m\n\u001b[0;32m     90\u001b[0m     \u001b[1;32mdef\u001b[0m \u001b[0mforward\u001b[0m\u001b[1;33m(\u001b[0m\u001b[0mself\u001b[0m\u001b[1;33m,\u001b[0m \u001b[0minput\u001b[0m\u001b[1;33m:\u001b[0m \u001b[0mTensor\u001b[0m\u001b[1;33m)\u001b[0m \u001b[1;33m->\u001b[0m \u001b[0mTensor\u001b[0m\u001b[1;33m:\u001b[0m\u001b[1;33m\u001b[0m\u001b[0m\n\u001b[1;32m---> 91\u001b[1;33m         \u001b[1;32mreturn\u001b[0m \u001b[0mF\u001b[0m\u001b[1;33m.\u001b[0m\u001b[0mlinear\u001b[0m\u001b[1;33m(\u001b[0m\u001b[0minput\u001b[0m\u001b[1;33m,\u001b[0m \u001b[0mself\u001b[0m\u001b[1;33m.\u001b[0m\u001b[0mweight\u001b[0m\u001b[1;33m,\u001b[0m \u001b[0mself\u001b[0m\u001b[1;33m.\u001b[0m\u001b[0mbias\u001b[0m\u001b[1;33m)\u001b[0m\u001b[1;33m\u001b[0m\u001b[0m\n\u001b[0m\u001b[0;32m     92\u001b[0m \u001b[1;33m\u001b[0m\u001b[0m\n\u001b[0;32m     93\u001b[0m     \u001b[1;32mdef\u001b[0m \u001b[0mextra_repr\u001b[0m\u001b[1;33m(\u001b[0m\u001b[0mself\u001b[0m\u001b[1;33m)\u001b[0m \u001b[1;33m->\u001b[0m \u001b[0mstr\u001b[0m\u001b[1;33m:\u001b[0m\u001b[1;33m\u001b[0m\u001b[0m\n",
      "\u001b[1;32m~\\Anaconda3\\lib\\site-packages\\torch\\nn\\functional.py\u001b[0m in \u001b[0;36mlinear\u001b[1;34m(input, weight, bias)\u001b[0m\n\u001b[0;32m   1672\u001b[0m     \u001b[1;32mif\u001b[0m \u001b[0minput\u001b[0m\u001b[1;33m.\u001b[0m\u001b[0mdim\u001b[0m\u001b[1;33m(\u001b[0m\u001b[1;33m)\u001b[0m \u001b[1;33m==\u001b[0m \u001b[1;36m2\u001b[0m \u001b[1;32mand\u001b[0m \u001b[0mbias\u001b[0m \u001b[1;32mis\u001b[0m \u001b[1;32mnot\u001b[0m \u001b[1;32mNone\u001b[0m\u001b[1;33m:\u001b[0m\u001b[1;33m\u001b[0m\u001b[0m\n\u001b[0;32m   1673\u001b[0m         \u001b[1;31m# fused op is marginally faster\u001b[0m\u001b[1;33m\u001b[0m\u001b[1;33m\u001b[0m\u001b[0m\n\u001b[1;32m-> 1674\u001b[1;33m         \u001b[0mret\u001b[0m \u001b[1;33m=\u001b[0m \u001b[0mtorch\u001b[0m\u001b[1;33m.\u001b[0m\u001b[0maddmm\u001b[0m\u001b[1;33m(\u001b[0m\u001b[0mbias\u001b[0m\u001b[1;33m,\u001b[0m \u001b[0minput\u001b[0m\u001b[1;33m,\u001b[0m \u001b[0mweight\u001b[0m\u001b[1;33m.\u001b[0m\u001b[0mt\u001b[0m\u001b[1;33m(\u001b[0m\u001b[1;33m)\u001b[0m\u001b[1;33m)\u001b[0m\u001b[1;33m\u001b[0m\u001b[0m\n\u001b[0m\u001b[0;32m   1675\u001b[0m     \u001b[1;32melse\u001b[0m\u001b[1;33m:\u001b[0m\u001b[1;33m\u001b[0m\u001b[0m\n\u001b[0;32m   1676\u001b[0m         \u001b[0moutput\u001b[0m \u001b[1;33m=\u001b[0m \u001b[0minput\u001b[0m\u001b[1;33m.\u001b[0m\u001b[0mmatmul\u001b[0m\u001b[1;33m(\u001b[0m\u001b[0mweight\u001b[0m\u001b[1;33m.\u001b[0m\u001b[0mt\u001b[0m\u001b[1;33m(\u001b[0m\u001b[1;33m)\u001b[0m\u001b[1;33m)\u001b[0m\u001b[1;33m\u001b[0m\u001b[0m\n",
      "\u001b[1;31mRuntimeError\u001b[0m: size mismatch, m1: [256 x 64], m2: [32 x 10] at ..\\aten\\src\\TH/generic/THTensorMath.cpp:41"
     ]
    }
   ],
   "source": [
    "train(model,80,10)"
   ]
  },
  {
   "cell_type": "code",
   "execution_count": null,
   "metadata": {},
   "outputs": [],
   "source": []
  }
 ],
 "metadata": {
  "kernelspec": {
   "display_name": "Python 3",
   "language": "python",
   "name": "python3"
  },
  "language_info": {
   "codemirror_mode": {
    "name": "ipython",
    "version": 3
   },
   "file_extension": ".py",
   "mimetype": "text/x-python",
   "name": "python",
   "nbconvert_exporter": "python",
   "pygments_lexer": "ipython3",
   "version": "3.7.0"
  }
 },
 "nbformat": 4,
 "nbformat_minor": 2
}
